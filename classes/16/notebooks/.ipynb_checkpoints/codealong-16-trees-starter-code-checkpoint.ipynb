{
 "cells": [
  {
   "cell_type": "markdown",
   "metadata": {},
   "source": [
    "# DS-SF-34 | 16 | Trees | Codealong | Starter Code"
   ]
  },
  {
   "cell_type": "code",
   "execution_count": 1,
   "metadata": {
    "collapsed": true
   },
   "outputs": [],
   "source": [
    "import os\n",
    "\n",
    "import pandas as pd\n",
    "pd.set_option('display.max_rows', 10)\n",
    "pd.set_option('display.notebook_repr_html', True)\n",
    "pd.set_option('display.max_columns', 10)\n",
    "\n",
    "import math"
   ]
  },
  {
   "cell_type": "markdown",
   "metadata": {},
   "source": [
    "## Part A - The 2008 Democratic Primaries"
   ]
  },
  {
   "cell_type": "markdown",
   "metadata": {},
   "source": [
    "(dataset adapted from http://www.stat.ucla.edu/~cocteau/primaries.csv)"
   ]
  },
  {
   "cell_type": "code",
   "execution_count": 2,
   "metadata": {
    "collapsed": true
   },
   "outputs": [],
   "source": [
    "df = pd.read_csv(os.path.join('..', 'datasets', 'dataset-16-2008-democrat-primaries.csv'))"
   ]
  },
  {
   "cell_type": "code",
   "execution_count": 3,
   "metadata": {
    "collapsed": false
   },
   "outputs": [
    {
     "data": {
      "text/plain": [
       "Index([u'fips', u'county_name', u'state_postal', u'region', u'election_date',\n",
       "       u'racetype', u'tvotes', u'clinton', u'obama', u'edwards', u'margin',\n",
       "       u'winner', u'POP05_SQMI', u'popUnder30_00', u'pop65up_00',\n",
       "       u'presVote04', u'kerry04', u'Bush04', u'pres04margin', u'pres04winner',\n",
       "       u'pop06', u'pop00', u'hisp06', u'white06', u'black06', u'indian06',\n",
       "       u'asian06', u'hawaii06', u'mixed06', u'pct_less_30k', u'pct_more_100k',\n",
       "       u'pct_hs_grad', u'pct_labor_force', u'pct_homeowner', u'unempFeb07',\n",
       "       u'unempFeb08', u'unempChg', u'pctUnins00', u'subForPctHomes',\n",
       "       u'poverty05', u'median_hhi05', u'Catholic', u'So.Bapt.Conv',\n",
       "       u'Un.Methodist', u'E.L.C.A.', u'Construction', u'Manufacturing',\n",
       "       u'FinancialActivities', u'GoodsProducing', u'ServiceProviding'],\n",
       "      dtype='object')"
      ]
     },
     "execution_count": 3,
     "metadata": {},
     "output_type": "execute_result"
    }
   ],
   "source": [
    "df.columns"
   ]
  },
  {
   "cell_type": "code",
   "execution_count": 8,
   "metadata": {
    "collapsed": false
   },
   "outputs": [
    {
     "data": {
      "text/html": [
       "<div>\n",
       "<table border=\"1\" class=\"dataframe\">\n",
       "  <thead>\n",
       "    <tr style=\"text-align: right;\">\n",
       "      <th></th>\n",
       "      <th>fips</th>\n",
       "      <th>tvotes</th>\n",
       "      <th>clinton</th>\n",
       "      <th>obama</th>\n",
       "      <th>edwards</th>\n",
       "      <th>...</th>\n",
       "      <th>Construction</th>\n",
       "      <th>Manufacturing</th>\n",
       "      <th>FinancialActivities</th>\n",
       "      <th>GoodsProducing</th>\n",
       "      <th>ServiceProviding</th>\n",
       "    </tr>\n",
       "  </thead>\n",
       "  <tbody>\n",
       "    <tr>\n",
       "      <th>fips</th>\n",
       "      <td>1.000000</td>\n",
       "      <td>-0.064632</td>\n",
       "      <td>-0.061903</td>\n",
       "      <td>-0.058275</td>\n",
       "      <td>-0.114123</td>\n",
       "      <td>...</td>\n",
       "      <td>0.024032</td>\n",
       "      <td>-0.100277</td>\n",
       "      <td>-0.056276</td>\n",
       "      <td>-0.014170</td>\n",
       "      <td>-0.000632</td>\n",
       "    </tr>\n",
       "    <tr>\n",
       "      <th>tvotes</th>\n",
       "      <td>-0.064632</td>\n",
       "      <td>1.000000</td>\n",
       "      <td>0.967687</td>\n",
       "      <td>0.969951</td>\n",
       "      <td>0.717657</td>\n",
       "      <td>...</td>\n",
       "      <td>-0.021739</td>\n",
       "      <td>-0.071497</td>\n",
       "      <td>0.207026</td>\n",
       "      <td>-0.184817</td>\n",
       "      <td>0.184215</td>\n",
       "    </tr>\n",
       "    <tr>\n",
       "      <th>clinton</th>\n",
       "      <td>-0.061903</td>\n",
       "      <td>0.967687</td>\n",
       "      <td>1.000000</td>\n",
       "      <td>0.878306</td>\n",
       "      <td>0.730876</td>\n",
       "      <td>...</td>\n",
       "      <td>-0.022727</td>\n",
       "      <td>-0.064061</td>\n",
       "      <td>0.190660</td>\n",
       "      <td>-0.174310</td>\n",
       "      <td>0.174101</td>\n",
       "    </tr>\n",
       "    <tr>\n",
       "      <th>obama</th>\n",
       "      <td>-0.058275</td>\n",
       "      <td>0.969951</td>\n",
       "      <td>0.878306</td>\n",
       "      <td>1.000000</td>\n",
       "      <td>0.635666</td>\n",
       "      <td>...</td>\n",
       "      <td>-0.020041</td>\n",
       "      <td>-0.074572</td>\n",
       "      <td>0.209135</td>\n",
       "      <td>-0.183155</td>\n",
       "      <td>0.182043</td>\n",
       "    </tr>\n",
       "    <tr>\n",
       "      <th>edwards</th>\n",
       "      <td>-0.114123</td>\n",
       "      <td>0.717657</td>\n",
       "      <td>0.730876</td>\n",
       "      <td>0.635666</td>\n",
       "      <td>1.000000</td>\n",
       "      <td>...</td>\n",
       "      <td>-0.005288</td>\n",
       "      <td>-0.033237</td>\n",
       "      <td>0.164040</td>\n",
       "      <td>-0.133754</td>\n",
       "      <td>0.137041</td>\n",
       "    </tr>\n",
       "    <tr>\n",
       "      <th>...</th>\n",
       "      <td>...</td>\n",
       "      <td>...</td>\n",
       "      <td>...</td>\n",
       "      <td>...</td>\n",
       "      <td>...</td>\n",
       "      <td>...</td>\n",
       "      <td>...</td>\n",
       "      <td>...</td>\n",
       "      <td>...</td>\n",
       "      <td>...</td>\n",
       "      <td>...</td>\n",
       "    </tr>\n",
       "    <tr>\n",
       "      <th>Construction</th>\n",
       "      <td>0.024032</td>\n",
       "      <td>-0.021739</td>\n",
       "      <td>-0.022727</td>\n",
       "      <td>-0.020041</td>\n",
       "      <td>-0.005288</td>\n",
       "      <td>...</td>\n",
       "      <td>1.000000</td>\n",
       "      <td>-0.141313</td>\n",
       "      <td>0.002523</td>\n",
       "      <td>0.089337</td>\n",
       "      <td>-0.046453</td>\n",
       "    </tr>\n",
       "    <tr>\n",
       "      <th>Manufacturing</th>\n",
       "      <td>-0.100277</td>\n",
       "      <td>-0.071497</td>\n",
       "      <td>-0.064061</td>\n",
       "      <td>-0.074572</td>\n",
       "      <td>-0.033237</td>\n",
       "      <td>...</td>\n",
       "      <td>-0.141313</td>\n",
       "      <td>1.000000</td>\n",
       "      <td>-0.250974</td>\n",
       "      <td>0.574543</td>\n",
       "      <td>-0.494638</td>\n",
       "    </tr>\n",
       "    <tr>\n",
       "      <th>FinancialActivities</th>\n",
       "      <td>-0.056276</td>\n",
       "      <td>0.207026</td>\n",
       "      <td>0.190660</td>\n",
       "      <td>0.209135</td>\n",
       "      <td>0.164040</td>\n",
       "      <td>...</td>\n",
       "      <td>0.002523</td>\n",
       "      <td>-0.250974</td>\n",
       "      <td>1.000000</td>\n",
       "      <td>-0.382982</td>\n",
       "      <td>0.420406</td>\n",
       "    </tr>\n",
       "    <tr>\n",
       "      <th>GoodsProducing</th>\n",
       "      <td>-0.014170</td>\n",
       "      <td>-0.184817</td>\n",
       "      <td>-0.174310</td>\n",
       "      <td>-0.183155</td>\n",
       "      <td>-0.133754</td>\n",
       "      <td>...</td>\n",
       "      <td>0.089337</td>\n",
       "      <td>0.574543</td>\n",
       "      <td>-0.382982</td>\n",
       "      <td>1.000000</td>\n",
       "      <td>-0.848905</td>\n",
       "    </tr>\n",
       "    <tr>\n",
       "      <th>ServiceProviding</th>\n",
       "      <td>-0.000632</td>\n",
       "      <td>0.184215</td>\n",
       "      <td>0.174101</td>\n",
       "      <td>0.182043</td>\n",
       "      <td>0.137041</td>\n",
       "      <td>...</td>\n",
       "      <td>-0.046453</td>\n",
       "      <td>-0.494638</td>\n",
       "      <td>0.420406</td>\n",
       "      <td>-0.848905</td>\n",
       "      <td>1.000000</td>\n",
       "    </tr>\n",
       "  </tbody>\n",
       "</table>\n",
       "<p>43 rows × 43 columns</p>\n",
       "</div>"
      ],
      "text/plain": [
       "                         fips    tvotes   clinton     obama   edwards  \\\n",
       "fips                 1.000000 -0.064632 -0.061903 -0.058275 -0.114123   \n",
       "tvotes              -0.064632  1.000000  0.967687  0.969951  0.717657   \n",
       "clinton             -0.061903  0.967687  1.000000  0.878306  0.730876   \n",
       "obama               -0.058275  0.969951  0.878306  1.000000  0.635666   \n",
       "edwards             -0.114123  0.717657  0.730876  0.635666  1.000000   \n",
       "...                       ...       ...       ...       ...       ...   \n",
       "Construction         0.024032 -0.021739 -0.022727 -0.020041 -0.005288   \n",
       "Manufacturing       -0.100277 -0.071497 -0.064061 -0.074572 -0.033237   \n",
       "FinancialActivities -0.056276  0.207026  0.190660  0.209135  0.164040   \n",
       "GoodsProducing      -0.014170 -0.184817 -0.174310 -0.183155 -0.133754   \n",
       "ServiceProviding    -0.000632  0.184215  0.174101  0.182043  0.137041   \n",
       "\n",
       "                           ...         Construction  Manufacturing  \\\n",
       "fips                       ...             0.024032      -0.100277   \n",
       "tvotes                     ...            -0.021739      -0.071497   \n",
       "clinton                    ...            -0.022727      -0.064061   \n",
       "obama                      ...            -0.020041      -0.074572   \n",
       "edwards                    ...            -0.005288      -0.033237   \n",
       "...                        ...                  ...            ...   \n",
       "Construction               ...             1.000000      -0.141313   \n",
       "Manufacturing              ...            -0.141313       1.000000   \n",
       "FinancialActivities        ...             0.002523      -0.250974   \n",
       "GoodsProducing             ...             0.089337       0.574543   \n",
       "ServiceProviding           ...            -0.046453      -0.494638   \n",
       "\n",
       "                     FinancialActivities  GoodsProducing  ServiceProviding  \n",
       "fips                           -0.056276       -0.014170         -0.000632  \n",
       "tvotes                          0.207026       -0.184817          0.184215  \n",
       "clinton                         0.190660       -0.174310          0.174101  \n",
       "obama                           0.209135       -0.183155          0.182043  \n",
       "edwards                         0.164040       -0.133754          0.137041  \n",
       "...                                  ...             ...               ...  \n",
       "Construction                    0.002523        0.089337         -0.046453  \n",
       "Manufacturing                  -0.250974        0.574543         -0.494638  \n",
       "FinancialActivities             1.000000       -0.382982          0.420406  \n",
       "GoodsProducing                 -0.382982        1.000000         -0.848905  \n",
       "ServiceProviding                0.420406       -0.848905          1.000000  \n",
       "\n",
       "[43 rows x 43 columns]"
      ]
     },
     "execution_count": 8,
     "metadata": {},
     "output_type": "execute_result"
    }
   ],
   "source": [
    "df.corr().transpose()"
   ]
  },
  {
   "cell_type": "markdown",
   "metadata": {},
   "source": [
    "### First cut: Is a county more than 20% black?"
   ]
  },
  {
   "cell_type": "code",
   "execution_count": null,
   "metadata": {
    "collapsed": true
   },
   "outputs": [],
   "source": [
    "# TODO"
   ]
  },
  {
   "cell_type": "markdown",
   "metadata": {},
   "source": [
    "#### First cut/right node"
   ]
  },
  {
   "cell_type": "code",
   "execution_count": null,
   "metadata": {
    "collapsed": false
   },
   "outputs": [],
   "source": [
    "# TODO"
   ]
  },
  {
   "cell_type": "code",
   "execution_count": null,
   "metadata": {
    "collapsed": true
   },
   "outputs": [],
   "source": [
    "def obama_vs_clinton(df):\n",
    "    obama = (df.c == 1).sum()\n",
    "    clinton = (df.c == 0).sum()\n",
    "    if obama > clinton:\n",
    "        print 'Obama wins these counties {} to {}.'.format(obama, clinton)\n",
    "    elif clinton > obama:\n",
    "        print 'Clinton wins these counties {} to {}.'.format(clinton, obama)\n",
    "    else:\n",
    "        print 'Obama and Clinton tie in these counties {} {}.'.format(obama, clinton)"
   ]
  },
  {
   "cell_type": "code",
   "execution_count": null,
   "metadata": {
    "collapsed": false
   },
   "outputs": [],
   "source": [
    "obama_vs_clinton(right_child_df)"
   ]
  },
  {
   "cell_type": "markdown",
   "metadata": {},
   "source": [
    "### Second cut: Is high school graduation rate higher than 78%?"
   ]
  },
  {
   "cell_type": "code",
   "execution_count": null,
   "metadata": {
    "collapsed": true
   },
   "outputs": [],
   "source": [
    "# TODO"
   ]
  },
  {
   "cell_type": "code",
   "execution_count": null,
   "metadata": {
    "collapsed": false
   },
   "outputs": [],
   "source": [
    "obama_vs_clinton(left_child_df)"
   ]
  },
  {
   "cell_type": "markdown",
   "metadata": {},
   "source": [
    "### Third cut: Is high school graduation rate higher than 87%?"
   ]
  },
  {
   "cell_type": "code",
   "execution_count": null,
   "metadata": {
    "collapsed": true
   },
   "outputs": [],
   "source": [
    "# TODO"
   ]
  },
  {
   "cell_type": "code",
   "execution_count": null,
   "metadata": {
    "collapsed": false
   },
   "outputs": [],
   "source": [
    "obama_vs_clinton(right_child_df)"
   ]
  },
  {
   "cell_type": "markdown",
   "metadata": {},
   "source": [
    "## Part B - Building the 2008 Democratic Primaries Decision Tree by Hand"
   ]
  },
  {
   "cell_type": "code",
   "execution_count": null,
   "metadata": {
    "collapsed": true
   },
   "outputs": [],
   "source": [
    "class Node:\n",
    "\n",
    "    @staticmethod\n",
    "    def root(root_df):\n",
    "        cs = sorted(set(root_df.c))\n",
    "        return Node(cs, root_df)\n",
    "\n",
    "    def decision(self, left_filter):\n",
    "        # Collect the observations for which the decision split is true and\n",
    "        # create the corresponding left node\n",
    "\n",
    "        left_filter = left_filter(self.df)\n",
    "        left_df = self.df[left_filter]\n",
    "        self.left = Node(self.cs, left_df)\n",
    "\n",
    "        # Same thing on the right side but for the observations that don't\n",
    "        # satisfy the decision split (the \"else\")\n",
    "\n",
    "        right_df = self.df.drop(left_df.index)\n",
    "        self.right = Node(self.cs, right_df)\n",
    "\n",
    "        # The entropy after the decision split is the weighted average of the\n",
    "        # children entropy\n",
    "\n",
    "        self.after = (self.left.samples * self.left.before\n",
    "                      + self.right.samples * self.right.before) / self.samples\n",
    "\n",
    "        # The information gain corresponds to the entropy lost between the\n",
    "        # parent node (this node and the \"before\") and its child (the \"after\")\n",
    "\n",
    "        self.information_gain = self.before - self.after\n",
    "\n",
    "        return self\n",
    "\n",
    "    def __init__(self, cs, df):\n",
    "        self.cs = cs\n",
    "        self.df = df\n",
    "\n",
    "        # Counts of the remaining observations in the subspace per classes\n",
    "        self.counts = [(self.df.c == c).sum() for c in self.cs]\n",
    "\n",
    "        # Number of observations in the subspace\n",
    "        self.samples = sum(self.counts)\n",
    "\n",
    "        # For empty subspaces, probabilties and entropy are set to zero\n",
    "        if self.samples == 0:\n",
    "            self.probabilities = [.0 for count in self.counts]\n",
    "            self.before = .0\n",
    "        else:\n",
    "            self.probabilities = [1. * count / self.samples for count in self.counts]\n",
    "            self.before = - sum(map(lambda p: p * math.log(p, 2),\n",
    "                                    filter(lambda p : p > .0, self.probabilities)))\n",
    "\n",
    "    def status(self):\n",
    "        print 'classes                       =', self.cs\n",
    "        print 'before:'\n",
    "        print \"\\tparent:\"\n",
    "        print \"\\t\\tsamples       =\", self.samples\n",
    "        print \"\\t\\tcounts        =\", self.counts\n",
    "        print \"\\t\\tprobabilities =\", self.probabilities\n",
    "        print \"\\t\\tentropy       =\", self.before\n",
    "        print 'after:'\n",
    "        print \"\\tleft child:\"\n",
    "        print \"\\t\\tsamples       =\", self.left.samples\n",
    "        print \"\\t\\tcounts        =\", self.left.counts\n",
    "        print \"\\t\\tprobabilities =\", self.left.probabilities\n",
    "        print \"\\t\\tentropy       =\", self.left.before\n",
    "        print \"\\tright child:\"\n",
    "        print \"\\t\\tsamples       =\", self.right.samples\n",
    "        print \"\\t\\tcounts        =\", self.right.counts\n",
    "        print \"\\t\\tprobabilities =\", self.right.probabilities\n",
    "        print \"\\t\\tentropy       =\", self.right.before\n",
    "        print\n",
    "        print 'before entropy                =', self.before\n",
    "        print 'after entropy                 =', self.after\n",
    "        print 'information gain              =', self.information_gain"
   ]
  },
  {
   "cell_type": "code",
   "execution_count": null,
   "metadata": {
    "collapsed": true
   },
   "outputs": [],
   "source": [
    "df.c = df.winner"
   ]
  },
  {
   "cell_type": "markdown",
   "metadata": {},
   "source": [
    "### First cut"
   ]
  },
  {
   "cell_type": "code",
   "execution_count": null,
   "metadata": {
    "collapsed": true
   },
   "outputs": [],
   "source": [
    "# TODO"
   ]
  },
  {
   "cell_type": "markdown",
   "metadata": {},
   "source": [
    "#### Candidate #1: Is a county more than 20% black?"
   ]
  },
  {
   "cell_type": "code",
   "execution_count": null,
   "metadata": {
    "collapsed": false
   },
   "outputs": [],
   "source": [
    "# TODO"
   ]
  },
  {
   "cell_type": "markdown",
   "metadata": {},
   "source": [
    "#### Candidate #2: Is high school graduation rate higher than 78%?"
   ]
  },
  {
   "cell_type": "code",
   "execution_count": null,
   "metadata": {
    "collapsed": false
   },
   "outputs": [],
   "source": [
    "# TODO"
   ]
  },
  {
   "cell_type": "markdown",
   "metadata": {},
   "source": [
    "#### Candidate #3: Is high school graduation rate higher than 87%?"
   ]
  },
  {
   "cell_type": "code",
   "execution_count": null,
   "metadata": {
    "collapsed": false
   },
   "outputs": [],
   "source": [
    "# TODO"
   ]
  },
  {
   "cell_type": "markdown",
   "metadata": {},
   "source": [
    "### Second cut"
   ]
  },
  {
   "cell_type": "code",
   "execution_count": null,
   "metadata": {
    "collapsed": true
   },
   "outputs": [],
   "source": [
    "# TODO"
   ]
  },
  {
   "cell_type": "markdown",
   "metadata": {},
   "source": [
    "### Third cut"
   ]
  },
  {
   "cell_type": "code",
   "execution_count": null,
   "metadata": {
    "collapsed": true
   },
   "outputs": [],
   "source": [
    "# TODO"
   ]
  }
 ],
 "metadata": {
  "kernelspec": {
   "display_name": "Python 2",
   "language": "python",
   "name": "python2"
  },
  "language_info": {
   "codemirror_mode": {
    "name": "ipython",
    "version": 2
   },
   "file_extension": ".py",
   "mimetype": "text/x-python",
   "name": "python",
   "nbconvert_exporter": "python",
   "pygments_lexer": "ipython2",
   "version": "2.7.13"
  }
 },
 "nbformat": 4,
 "nbformat_minor": 0
}
